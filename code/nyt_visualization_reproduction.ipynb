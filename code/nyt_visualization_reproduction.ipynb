{
 "cells": [
  {
   "cell_type": "code",
   "execution_count": 1,
   "outputs": [],
   "source": [
    "import pandas as pd\n",
    "import altair as alt\n",
    "from altair_saver import save"
   ],
   "metadata": {
    "collapsed": false,
    "pycharm": {
     "name": "#%%\n"
    }
   }
  },
  {
   "cell_type": "code",
   "execution_count": 2,
   "outputs": [
    {
     "data": {
      "text/plain": "   Year   Jan   Feb   Mar   Apr   May   Jun   Jul   Aug   Sep   Oct   Nov  \\\n0  1880 -0.29 -0.18 -0.11 -0.19 -0.11 -0.23 -0.21 -0.09 -0.16 -0.23 -0.20   \n1  1881 -0.15 -0.17  0.04  0.04  0.02 -0.20 -0.06 -0.02 -0.13 -0.20 -0.21   \n2  1882  0.15  0.15  0.04 -0.18 -0.16 -0.26 -0.20 -0.05 -0.10 -0.24 -0.16   \n3  1883 -0.31 -0.39 -0.13 -0.17 -0.20 -0.12 -0.08 -0.15 -0.20 -0.14 -0.22   \n4  1884 -0.15 -0.08 -0.37 -0.42 -0.36 -0.40 -0.34 -0.26 -0.27 -0.24 -0.30   \n\n    Dec   J-D   D-N   DJF   MAM   JJA   SON  \n0 -0.23 -0.19   ***   *** -0.14 -0.18 -0.20  \n1 -0.10 -0.10  -.11  -.18  0.03 -0.09 -0.18  \n2 -0.24 -0.10  -.09   .06 -0.10 -0.17 -0.17  \n3 -0.16 -0.19  -.20  -.31 -0.16 -0.12 -0.19  \n4 -0.28 -0.29  -.28  -.13 -0.39 -0.34 -0.27  ",
      "text/html": "<div>\n<style scoped>\n    .dataframe tbody tr th:only-of-type {\n        vertical-align: middle;\n    }\n\n    .dataframe tbody tr th {\n        vertical-align: top;\n    }\n\n    .dataframe thead th {\n        text-align: right;\n    }\n</style>\n<table border=\"1\" class=\"dataframe\">\n  <thead>\n    <tr style=\"text-align: right;\">\n      <th></th>\n      <th>Year</th>\n      <th>Jan</th>\n      <th>Feb</th>\n      <th>Mar</th>\n      <th>Apr</th>\n      <th>May</th>\n      <th>Jun</th>\n      <th>Jul</th>\n      <th>Aug</th>\n      <th>Sep</th>\n      <th>Oct</th>\n      <th>Nov</th>\n      <th>Dec</th>\n      <th>J-D</th>\n      <th>D-N</th>\n      <th>DJF</th>\n      <th>MAM</th>\n      <th>JJA</th>\n      <th>SON</th>\n    </tr>\n  </thead>\n  <tbody>\n    <tr>\n      <th>0</th>\n      <td>1880</td>\n      <td>-0.29</td>\n      <td>-0.18</td>\n      <td>-0.11</td>\n      <td>-0.19</td>\n      <td>-0.11</td>\n      <td>-0.23</td>\n      <td>-0.21</td>\n      <td>-0.09</td>\n      <td>-0.16</td>\n      <td>-0.23</td>\n      <td>-0.20</td>\n      <td>-0.23</td>\n      <td>-0.19</td>\n      <td>***</td>\n      <td>***</td>\n      <td>-0.14</td>\n      <td>-0.18</td>\n      <td>-0.20</td>\n    </tr>\n    <tr>\n      <th>1</th>\n      <td>1881</td>\n      <td>-0.15</td>\n      <td>-0.17</td>\n      <td>0.04</td>\n      <td>0.04</td>\n      <td>0.02</td>\n      <td>-0.20</td>\n      <td>-0.06</td>\n      <td>-0.02</td>\n      <td>-0.13</td>\n      <td>-0.20</td>\n      <td>-0.21</td>\n      <td>-0.10</td>\n      <td>-0.10</td>\n      <td>-.11</td>\n      <td>-.18</td>\n      <td>0.03</td>\n      <td>-0.09</td>\n      <td>-0.18</td>\n    </tr>\n    <tr>\n      <th>2</th>\n      <td>1882</td>\n      <td>0.15</td>\n      <td>0.15</td>\n      <td>0.04</td>\n      <td>-0.18</td>\n      <td>-0.16</td>\n      <td>-0.26</td>\n      <td>-0.20</td>\n      <td>-0.05</td>\n      <td>-0.10</td>\n      <td>-0.24</td>\n      <td>-0.16</td>\n      <td>-0.24</td>\n      <td>-0.10</td>\n      <td>-.09</td>\n      <td>.06</td>\n      <td>-0.10</td>\n      <td>-0.17</td>\n      <td>-0.17</td>\n    </tr>\n    <tr>\n      <th>3</th>\n      <td>1883</td>\n      <td>-0.31</td>\n      <td>-0.39</td>\n      <td>-0.13</td>\n      <td>-0.17</td>\n      <td>-0.20</td>\n      <td>-0.12</td>\n      <td>-0.08</td>\n      <td>-0.15</td>\n      <td>-0.20</td>\n      <td>-0.14</td>\n      <td>-0.22</td>\n      <td>-0.16</td>\n      <td>-0.19</td>\n      <td>-.20</td>\n      <td>-.31</td>\n      <td>-0.16</td>\n      <td>-0.12</td>\n      <td>-0.19</td>\n    </tr>\n    <tr>\n      <th>4</th>\n      <td>1884</td>\n      <td>-0.15</td>\n      <td>-0.08</td>\n      <td>-0.37</td>\n      <td>-0.42</td>\n      <td>-0.36</td>\n      <td>-0.40</td>\n      <td>-0.34</td>\n      <td>-0.26</td>\n      <td>-0.27</td>\n      <td>-0.24</td>\n      <td>-0.30</td>\n      <td>-0.28</td>\n      <td>-0.29</td>\n      <td>-.28</td>\n      <td>-.13</td>\n      <td>-0.39</td>\n      <td>-0.34</td>\n      <td>-0.27</td>\n    </tr>\n  </tbody>\n</table>\n</div>"
     },
     "execution_count": 2,
     "metadata": {},
     "output_type": "execute_result"
    }
   ],
   "source": [
    "df = pd.read_csv('../data/GLB.Ts_dSST.csv')\n",
    "df.head()\n"
   ],
   "metadata": {
    "collapsed": false,
    "pycharm": {
     "name": "#%%\n"
    }
   }
  },
  {
   "cell_type": "code",
   "execution_count": 3,
   "outputs": [
    {
     "data": {
      "text/plain": "   year   avg\n0  1880 -0.19\n1  1881 -0.10\n2  1882 -0.10\n3  1883 -0.19\n4  1884 -0.29",
      "text/html": "<div>\n<style scoped>\n    .dataframe tbody tr th:only-of-type {\n        vertical-align: middle;\n    }\n\n    .dataframe tbody tr th {\n        vertical-align: top;\n    }\n\n    .dataframe thead th {\n        text-align: right;\n    }\n</style>\n<table border=\"1\" class=\"dataframe\">\n  <thead>\n    <tr style=\"text-align: right;\">\n      <th></th>\n      <th>year</th>\n      <th>avg</th>\n    </tr>\n  </thead>\n  <tbody>\n    <tr>\n      <th>0</th>\n      <td>1880</td>\n      <td>-0.19</td>\n    </tr>\n    <tr>\n      <th>1</th>\n      <td>1881</td>\n      <td>-0.10</td>\n    </tr>\n    <tr>\n      <th>2</th>\n      <td>1882</td>\n      <td>-0.10</td>\n    </tr>\n    <tr>\n      <th>3</th>\n      <td>1883</td>\n      <td>-0.19</td>\n    </tr>\n    <tr>\n      <th>4</th>\n      <td>1884</td>\n      <td>-0.29</td>\n    </tr>\n  </tbody>\n</table>\n</div>"
     },
     "execution_count": 3,
     "metadata": {},
     "output_type": "execute_result"
    }
   ],
   "source": [
    "df.drop(['Jan', 'Feb', 'Mar', 'Apr', 'May', 'Jun',\n",
    "         'Jul', 'Aug', 'Sep', 'Oct', 'Nov', 'Dec',\n",
    "         'D-N', 'DJF', \"MAM\", 'JJA', 'SON'], axis = 1, inplace = True)\n",
    "df.columns = ['year', 'avg']\n",
    "df.head()\n"
   ],
   "metadata": {
    "collapsed": false,
    "pycharm": {
     "name": "#%%\n"
    }
   }
  },
  {
   "cell_type": "code",
   "execution_count": 4,
   "outputs": [
    {
     "name": "stdout",
     "output_type": "stream",
     "text": [
      "year      int64\n",
      "avg     float64\n",
      "dtype: object\n",
      "len: 138\n",
      "avg_1880_1899: -0.22849999999999998\n"
     ]
    }
   ],
   "source": [
    "print(df.dtypes)\n",
    "print(\"len:\", len(df))\n",
    "avg_1880_1899 = df.head(20).mean()['avg']\n",
    "print(\"avg_1880_1899:\", avg_1880_1899)"
   ],
   "metadata": {
    "collapsed": false,
    "pycharm": {
     "name": "#%%\n"
    }
   }
  },
  {
   "cell_type": "code",
   "execution_count": 5,
   "outputs": [],
   "source": [
    "chart_title = [\"Anual Global Surface Temperature,\",\"Relative to Late 19th Century Average\"]\n",
    "point_stroke_color = '#817871'\n",
    "point_fill_color = '#F26C08'\n",
    "point_size = 90\n",
    "point_shape = 'circle'\n",
    "point_opacity = 1\n",
    "point_stroke_width = 1\n",
    "axis_title = \"\"\n",
    "y_axis_format = \"\"\"if(datum.value == 1,\n",
    "                  '+' + format(datum.value, '.1f') + '\\u00b0' + 'F',\n",
    "\n",
    "                  if(datum.value > 0,\n",
    "                  '+' + format(datum.value, '.1f') + '\\u00b0',\n",
    "                  format(datum.value, '.1f') + '\\u00b0')\n",
    "                  )\n",
    "                  \"\"\"\n",
    "font = 'Helvetica'\n",
    "df_line = pd.DataFrame({'y' : [avg_1880_1899]})"
   ],
   "metadata": {
    "collapsed": false,
    "pycharm": {
     "name": "#%%\n"
    }
   }
  },
  {
   "cell_type": "code",
   "execution_count": 6,
   "outputs": [],
   "source": [
    "main = alt.Chart(df, title = chart_title ).mark_point(color = point_stroke_color,\n",
    "                         fill = point_fill_color ,\n",
    "                         size = point_size,\n",
    "                         shape = point_shape,\n",
    "                         opacity = point_opacity,\n",
    "                         strokeWidth = point_stroke_width\n",
    "                        ).encode(\n",
    "    x = alt.X(field='year',\n",
    "              title = axis_title,\n",
    "              type = 'quantitative',\n",
    "              scale = alt.Scale(\n",
    "                    domain = [1880, 2017]\n",
    "                    ),\n",
    "              axis = alt.Axis(\n",
    "                  values = list(range(1880, 2020, 10)),\n",
    "                  format = 'i'\n",
    "             )),\n",
    "    y = alt.Y(field = 'avg',\n",
    "              title = axis_title,\n",
    "              type = 'quantitative',\n",
    "              axis = alt.Axis(\n",
    "                  tickCount = 10,\n",
    "                  labelExpr = y_axis_format\n",
    "             )))"
   ],
   "metadata": {
    "collapsed": false,
    "pycharm": {
     "name": "#%%\n"
    }
   }
  },
  {
   "cell_type": "code",
   "execution_count": 7,
   "outputs": [],
   "source": [
    "years_lables1 = alt.Chart(df).mark_text(\n",
    "    align='right',\n",
    "    dx=-10,\n",
    "    font = font,\n",
    "    fontSize = 15,\n",
    ").encode(\n",
    "    x = alt.X(field='year',\n",
    "              title = axis_title,\n",
    "              type = 'quantitative',\n",
    "              scale = alt.Scale(\n",
    "                    domain = [1880, 2017]\n",
    "                    ),\n",
    "              axis = alt.Axis(\n",
    "                  values = list(range(1880, 2020, 10)),\n",
    "                  format = 'i'\n",
    "              )),\n",
    "    y = alt.Y(field = 'avg',\n",
    "              title = axis_title,\n",
    "              type = 'quantitative',\n",
    "              axis = alt.Axis(\n",
    "                  tickCount = 10,\n",
    "                  labelExpr = y_axis_format\n",
    "             )),\n",
    "    text= 'year'\n",
    ").transform_filter(\n",
    "     alt.FieldOneOfPredicate(field='year', oneOf=[1904, 1998])\n",
    ")\n"
   ],
   "metadata": {
    "collapsed": false,
    "pycharm": {
     "name": "#%%\n"
    }
   }
  },
  {
   "cell_type": "code",
   "execution_count": 8,
   "outputs": [],
   "source": [
    "years_lables2 = alt.Chart(df).mark_text(\n",
    "    align='left',\n",
    "    dx=10,\n",
    "    font = font,\n",
    "    fontSize = 15,\n",
    ").encode(\n",
    "    x = alt.X(field='year',\n",
    "              title = axis_title,\n",
    "              type = 'quantitative',\n",
    "              scale = alt.Scale(\n",
    "                    domain = [1880, 2017]\n",
    "                    ),\n",
    "              axis = alt.Axis(\n",
    "                  values = list(range(1880, 2020, 10)),\n",
    "                  format = 'i'\n",
    "              )),\n",
    "    y = alt.Y(field = 'avg',\n",
    "              title = axis_title,\n",
    "              type = 'quantitative',\n",
    "              axis = alt.Axis(\n",
    "                  tickCount = 10,\n",
    "                  labelExpr = y_axis_format\n",
    "             )),\n",
    "    text= 'year'\n",
    ").transform_filter(\n",
    "     alt.FieldOneOfPredicate(field='year', oneOf=[1944, 2014, 2015, 2017])\n",
    ")\n"
   ],
   "metadata": {
    "collapsed": false,
    "pycharm": {
     "name": "#%%\n"
    }
   }
  },
  {
   "cell_type": "code",
   "execution_count": 9,
   "outputs": [],
   "source": [
    "years_lable_bold = alt.Chart(df).mark_text(\n",
    "    align='left',\n",
    "    dx=10,\n",
    "    font = font,\n",
    "    fontSize = 15,\n",
    "    fontWeight = \"bold\"\n",
    ").encode(\n",
    "    x = alt.X(field='year',\n",
    "              title = axis_title,\n",
    "              type = 'quantitative',\n",
    "              scale = alt.Scale(\n",
    "                    domain = [1880, 2017]\n",
    "                    ),\n",
    "              axis = alt.Axis(\n",
    "                  values = list(range(1880, 2020, 10)),\n",
    "                  format = 'i'\n",
    "              )),\n",
    "    y = alt.Y(field = 'avg',\n",
    "              title = axis_title,\n",
    "              type = 'quantitative',\n",
    "              axis = alt.Axis(\n",
    "                  tickCount = 10,\n",
    "                  labelExpr = y_axis_format\n",
    "             )),\n",
    "    text= 'year'\n",
    ").transform_filter(\n",
    "     alt.FieldOneOfPredicate(field='year', oneOf=[2016])\n",
    ")"
   ],
   "metadata": {
    "collapsed": false,
    "pycharm": {
     "name": "#%%\n"
    }
   }
  },
  {
   "cell_type": "code",
   "execution_count": 10,
   "outputs": [],
   "source": [
    "line = alt.Chart(df_line).mark_rule(\n",
    "    color='#989898'\n",
    ").encode(y = 'y')"
   ],
   "metadata": {
    "collapsed": false,
    "pycharm": {
     "name": "#%%\n"
    }
   }
  },
  {
   "cell_type": "code",
   "execution_count": 11,
   "outputs": [],
   "source": [
    "x = [2009.9]\n",
    "y = [-0.13]\n",
    "df_text = pd.DataFrame({'x': x, 'y': y})\n",
    "text1 = alt.Chart(df_text).mark_text(\n",
    "    color = '#757575',\n",
    "    text = 'HOTTER THAN THE',\n",
    "    fontSize = 14,\n",
    "    fontWeight = 300\n",
    ").encode(\n",
    "    x = alt.X(field = 'x',\n",
    "              type = 'quantitative'),\n",
    "    y = alt.Y(field = 'y',\n",
    "              type = 'quantitative'))\n"
   ],
   "metadata": {
    "collapsed": false,
    "pycharm": {
     "name": "#%%\n"
    }
   }
  },
  {
   "cell_type": "code",
   "execution_count": 12,
   "outputs": [],
   "source": [
    "x = [2009.4]\n",
    "y = [-0.19]\n",
    "df_text = pd.DataFrame({'x': x, 'y': y})\n",
    "text2 = alt.Chart(df_text).mark_text(\n",
    "    color = '#757575',\n",
    "    text = '1880-1899 AVERAGE',\n",
    "    fontSize = 14,\n",
    "    fontWeight = 300\n",
    ").encode(\n",
    "    x = alt.X(field = 'x',\n",
    "              type = 'quantitative'),\n",
    "    y = alt.Y(field = 'y',\n",
    "              type = 'quantitative'))"
   ],
   "metadata": {
    "collapsed": false,
    "pycharm": {
     "name": "#%%\n"
    }
   }
  },
  {
   "cell_type": "code",
   "execution_count": 13,
   "outputs": [],
   "source": [
    "x = [2015.3]\n",
    "y = [-0.27]\n",
    "df_text = pd.DataFrame({'x': x, 'y': y})\n",
    "text3 = alt.Chart(df_text).mark_text(\n",
    "    color = '#757575',\n",
    "    text = 'COLDER',\n",
    "    fontSize = 14,\n",
    "    fontWeight = 300\n",
    ").encode(\n",
    "    x = alt.X(field = 'x',\n",
    "              type = 'quantitative'),\n",
    "    y = alt.Y(field = 'y',\n",
    "              type = 'quantitative'))"
   ],
   "metadata": {
    "collapsed": false,
    "pycharm": {
     "name": "#%%\n"
    }
   }
  },
  {
   "cell_type": "code",
   "execution_count": 14,
   "outputs": [
    {
     "data": {
      "text/html": "\n<div id=\"altair-viz-52b87901746a4a3c9d37eeda28d234bf\"></div>\n<script type=\"text/javascript\">\n  (function(spec, embedOpt){\n    let outputDiv = document.currentScript.previousElementSibling;\n    if (outputDiv.id !== \"altair-viz-52b87901746a4a3c9d37eeda28d234bf\") {\n      outputDiv = document.getElementById(\"altair-viz-52b87901746a4a3c9d37eeda28d234bf\");\n    }\n    const paths = {\n      \"vega\": \"https://cdn.jsdelivr.net/npm//vega@5?noext\",\n      \"vega-lib\": \"https://cdn.jsdelivr.net/npm//vega-lib?noext\",\n      \"vega-lite\": \"https://cdn.jsdelivr.net/npm//vega-lite@4.8.1?noext\",\n      \"vega-embed\": \"https://cdn.jsdelivr.net/npm//vega-embed@6?noext\",\n    };\n\n    function loadScript(lib) {\n      return new Promise(function(resolve, reject) {\n        var s = document.createElement('script');\n        s.src = paths[lib];\n        s.async = true;\n        s.onload = () => resolve(paths[lib]);\n        s.onerror = () => reject(`Error loading script: ${paths[lib]}`);\n        document.getElementsByTagName(\"head\")[0].appendChild(s);\n      });\n    }\n\n    function showError(err) {\n      outputDiv.innerHTML = `<div class=\"error\" style=\"color:red;\">${err}</div>`;\n      throw err;\n    }\n\n    function displayChart(vegaEmbed) {\n      vegaEmbed(outputDiv, spec, embedOpt)\n        .catch(err => showError(`Javascript Error: ${err.message}<br>This usually means there's a typo in your chart specification. See the javascript console for the full traceback.`));\n    }\n\n    if(typeof define === \"function\" && define.amd) {\n      requirejs.config({paths});\n      require([\"vega-embed\"], displayChart, err => showError(`Error loading script: ${err.message}`));\n    } else if (typeof vegaEmbed === \"function\") {\n      displayChart(vegaEmbed);\n    } else {\n      loadScript(\"vega\")\n        .then(() => loadScript(\"vega-lite\"))\n        .then(() => loadScript(\"vega-embed\"))\n        .catch(showError)\n        .then(() => displayChart(vegaEmbed));\n    }\n  })({\"config\": {\"view\": {\"continuousWidth\": 400, \"continuousHeight\": 300}, \"axisX\": {\"domain\": false, \"labelColor\": \"#999999\", \"labelFont\": \"Helvetica\", \"labelFontSize\": 13, \"labelPadding\": 10, \"ticks\": false}, \"axisY\": {\"domain\": false, \"labelColor\": \"#999999\", \"labelFont\": \"Helvetica\", \"labelFontSize\": 13, \"labelPadding\": 4, \"tickColor\": \"#DCDCDC\"}, \"title\": {\"anchor\": \"start\", \"dx\": 70, \"dy\": 60, \"fontSize\": 18, \"fontWeight\": \"bold\"}}, \"layer\": [{\"data\": {\"name\": \"data-b8cb62995845517ff59e22f16f5ba353\"}, \"mark\": {\"type\": \"point\", \"color\": \"#817871\", \"fill\": \"#F26C08\", \"opacity\": 1, \"shape\": \"circle\", \"size\": 90, \"strokeWidth\": 1}, \"encoding\": {\"x\": {\"type\": \"quantitative\", \"axis\": {\"format\": \"i\", \"values\": [1880, 1890, 1900, 1910, 1920, 1930, 1940, 1950, 1960, 1970, 1980, 1990, 2000, 2010]}, \"field\": \"year\", \"scale\": {\"domain\": [1880, 2017]}, \"title\": \"\"}, \"y\": {\"type\": \"quantitative\", \"axis\": {\"labelExpr\": \"if(datum.value == 1,\\n                  '+' + format(datum.value, '.1f') + '\\u00b0' + 'F',\\n\\n                  if(datum.value > 0,\\n                  '+' + format(datum.value, '.1f') + '\\u00b0',\\n                  format(datum.value, '.1f') + '\\u00b0')\\n                  )\\n                  \", \"tickCount\": 10}, \"field\": \"avg\", \"title\": \"\"}}, \"title\": [\"Anual Global Surface Temperature,\", \"Relative to Late 19th Century Average\"]}, {\"data\": {\"name\": \"data-b8cb62995845517ff59e22f16f5ba353\"}, \"mark\": {\"type\": \"text\", \"align\": \"right\", \"dx\": -10, \"font\": \"Helvetica\", \"fontSize\": 15}, \"encoding\": {\"text\": {\"type\": \"quantitative\", \"field\": \"year\"}, \"x\": {\"type\": \"quantitative\", \"axis\": {\"format\": \"i\", \"values\": [1880, 1890, 1900, 1910, 1920, 1930, 1940, 1950, 1960, 1970, 1980, 1990, 2000, 2010]}, \"field\": \"year\", \"scale\": {\"domain\": [1880, 2017]}, \"title\": \"\"}, \"y\": {\"type\": \"quantitative\", \"axis\": {\"labelExpr\": \"if(datum.value == 1,\\n                  '+' + format(datum.value, '.1f') + '\\u00b0' + 'F',\\n\\n                  if(datum.value > 0,\\n                  '+' + format(datum.value, '.1f') + '\\u00b0',\\n                  format(datum.value, '.1f') + '\\u00b0')\\n                  )\\n                  \", \"tickCount\": 10}, \"field\": \"avg\", \"title\": \"\"}}, \"transform\": [{\"filter\": {\"field\": \"year\", \"oneOf\": [1904, 1998]}}]}, {\"data\": {\"name\": \"data-b8cb62995845517ff59e22f16f5ba353\"}, \"mark\": {\"type\": \"text\", \"align\": \"left\", \"dx\": 10, \"font\": \"Helvetica\", \"fontSize\": 15}, \"encoding\": {\"text\": {\"type\": \"quantitative\", \"field\": \"year\"}, \"x\": {\"type\": \"quantitative\", \"axis\": {\"format\": \"i\", \"values\": [1880, 1890, 1900, 1910, 1920, 1930, 1940, 1950, 1960, 1970, 1980, 1990, 2000, 2010]}, \"field\": \"year\", \"scale\": {\"domain\": [1880, 2017]}, \"title\": \"\"}, \"y\": {\"type\": \"quantitative\", \"axis\": {\"labelExpr\": \"if(datum.value == 1,\\n                  '+' + format(datum.value, '.1f') + '\\u00b0' + 'F',\\n\\n                  if(datum.value > 0,\\n                  '+' + format(datum.value, '.1f') + '\\u00b0',\\n                  format(datum.value, '.1f') + '\\u00b0')\\n                  )\\n                  \", \"tickCount\": 10}, \"field\": \"avg\", \"title\": \"\"}}, \"transform\": [{\"filter\": {\"field\": \"year\", \"oneOf\": [1944, 2014, 2015, 2017]}}]}, {\"data\": {\"name\": \"data-b8cb62995845517ff59e22f16f5ba353\"}, \"mark\": {\"type\": \"text\", \"align\": \"left\", \"dx\": 10, \"font\": \"Helvetica\", \"fontSize\": 15, \"fontWeight\": \"bold\"}, \"encoding\": {\"text\": {\"type\": \"quantitative\", \"field\": \"year\"}, \"x\": {\"type\": \"quantitative\", \"axis\": {\"format\": \"i\", \"values\": [1880, 1890, 1900, 1910, 1920, 1930, 1940, 1950, 1960, 1970, 1980, 1990, 2000, 2010]}, \"field\": \"year\", \"scale\": {\"domain\": [1880, 2017]}, \"title\": \"\"}, \"y\": {\"type\": \"quantitative\", \"axis\": {\"labelExpr\": \"if(datum.value == 1,\\n                  '+' + format(datum.value, '.1f') + '\\u00b0' + 'F',\\n\\n                  if(datum.value > 0,\\n                  '+' + format(datum.value, '.1f') + '\\u00b0',\\n                  format(datum.value, '.1f') + '\\u00b0')\\n                  )\\n                  \", \"tickCount\": 10}, \"field\": \"avg\", \"title\": \"\"}}, \"transform\": [{\"filter\": {\"field\": \"year\", \"oneOf\": [2016]}}]}, {\"data\": {\"name\": \"data-7a308401a6c4dd4e370c4729ef7bbfe2\"}, \"mark\": {\"type\": \"rule\", \"color\": \"#989898\"}, \"encoding\": {\"y\": {\"type\": \"quantitative\", \"field\": \"y\"}}}, {\"data\": {\"name\": \"data-a179efb71714682473509bb3f19957ec\"}, \"mark\": {\"type\": \"text\", \"color\": \"#757575\", \"fontSize\": 14, \"fontWeight\": 300, \"text\": \"HOTTER THAN THE\"}, \"encoding\": {\"x\": {\"type\": \"quantitative\", \"field\": \"x\"}, \"y\": {\"type\": \"quantitative\", \"field\": \"y\"}}}, {\"data\": {\"name\": \"data-350d6d05ef4115a85760d3a12acfc6a6\"}, \"mark\": {\"type\": \"text\", \"color\": \"#757575\", \"fontSize\": 14, \"fontWeight\": 300, \"text\": \"1880-1899 AVERAGE\"}, \"encoding\": {\"x\": {\"type\": \"quantitative\", \"field\": \"x\"}, \"y\": {\"type\": \"quantitative\", \"field\": \"y\"}}}, {\"data\": {\"name\": \"data-cf74d56b179e80371926665c4df6308a\"}, \"mark\": {\"type\": \"text\", \"color\": \"#757575\", \"fontSize\": 14, \"fontWeight\": 300, \"text\": \"COLDER\"}, \"encoding\": {\"x\": {\"type\": \"quantitative\", \"field\": \"x\"}, \"y\": {\"type\": \"quantitative\", \"field\": \"y\"}}}], \"background\": \"white\", \"height\": 604, \"padding\": 25, \"width\": 957, \"$schema\": \"https://vega.github.io/schema/vega-lite/v4.8.1.json\", \"datasets\": {\"data-b8cb62995845517ff59e22f16f5ba353\": [{\"year\": 1880, \"avg\": -0.19}, {\"year\": 1881, \"avg\": -0.1}, {\"year\": 1882, \"avg\": -0.1}, {\"year\": 1883, \"avg\": -0.19}, {\"year\": 1884, \"avg\": -0.29}, {\"year\": 1885, \"avg\": -0.31}, {\"year\": 1886, \"avg\": -0.32}, {\"year\": 1887, \"avg\": -0.35}, {\"year\": 1888, \"avg\": -0.18}, {\"year\": 1889, \"avg\": -0.11}, {\"year\": 1890, \"avg\": -0.37}, {\"year\": 1891, \"avg\": -0.24}, {\"year\": 1892, \"avg\": -0.27}, {\"year\": 1893, \"avg\": -0.32}, {\"year\": 1894, \"avg\": -0.32}, {\"year\": 1895, \"avg\": -0.22}, {\"year\": 1896, \"avg\": -0.11}, {\"year\": 1897, \"avg\": -0.12}, {\"year\": 1898, \"avg\": -0.28}, {\"year\": 1899, \"avg\": -0.18}, {\"year\": 1900, \"avg\": -0.09}, {\"year\": 1901, \"avg\": -0.15}, {\"year\": 1902, \"avg\": -0.3}, {\"year\": 1903, \"avg\": -0.39}, {\"year\": 1904, \"avg\": -0.49}, {\"year\": 1905, \"avg\": -0.29}, {\"year\": 1906, \"avg\": -0.23}, {\"year\": 1907, \"avg\": -0.4}, {\"year\": 1908, \"avg\": -0.44}, {\"year\": 1909, \"avg\": -0.48}, {\"year\": 1910, \"avg\": -0.44}, {\"year\": 1911, \"avg\": -0.43}, {\"year\": 1912, \"avg\": -0.36}, {\"year\": 1913, \"avg\": -0.35}, {\"year\": 1914, \"avg\": -0.16}, {\"year\": 1915, \"avg\": -0.12}, {\"year\": 1916, \"avg\": -0.33}, {\"year\": 1917, \"avg\": -0.43}, {\"year\": 1918, \"avg\": -0.28}, {\"year\": 1919, \"avg\": -0.27}, {\"year\": 1920, \"avg\": -0.25}, {\"year\": 1921, \"avg\": -0.17}, {\"year\": 1922, \"avg\": -0.27}, {\"year\": 1923, \"avg\": -0.24}, {\"year\": 1924, \"avg\": -0.25}, {\"year\": 1925, \"avg\": -0.21}, {\"year\": 1926, \"avg\": -0.09}, {\"year\": 1927, \"avg\": -0.2}, {\"year\": 1928, \"avg\": -0.19}, {\"year\": 1929, \"avg\": -0.35}, {\"year\": 1930, \"avg\": -0.15}, {\"year\": 1931, \"avg\": -0.1}, {\"year\": 1932, \"avg\": -0.17}, {\"year\": 1933, \"avg\": -0.3}, {\"year\": 1934, \"avg\": -0.14}, {\"year\": 1935, \"avg\": -0.21}, {\"year\": 1936, \"avg\": -0.16}, {\"year\": 1937, \"avg\": -0.04}, {\"year\": 1938, \"avg\": -0.03}, {\"year\": 1939, \"avg\": -0.03}, {\"year\": 1940, \"avg\": 0.11}, {\"year\": 1941, \"avg\": 0.18}, {\"year\": 1942, \"avg\": 0.05}, {\"year\": 1943, \"avg\": 0.07}, {\"year\": 1944, \"avg\": 0.21}, {\"year\": 1945, \"avg\": 0.09}, {\"year\": 1946, \"avg\": -0.07}, {\"year\": 1947, \"avg\": -0.04}, {\"year\": 1948, \"avg\": -0.11}, {\"year\": 1949, \"avg\": -0.11}, {\"year\": 1950, \"avg\": -0.19}, {\"year\": 1951, \"avg\": -0.07}, {\"year\": 1952, \"avg\": 0.01}, {\"year\": 1953, \"avg\": 0.07}, {\"year\": 1954, \"avg\": -0.15}, {\"year\": 1955, \"avg\": -0.14}, {\"year\": 1956, \"avg\": -0.2}, {\"year\": 1957, \"avg\": 0.04}, {\"year\": 1958, \"avg\": 0.07}, {\"year\": 1959, \"avg\": 0.03}, {\"year\": 1960, \"avg\": -0.02}, {\"year\": 1961, \"avg\": 0.06}, {\"year\": 1962, \"avg\": 0.04}, {\"year\": 1963, \"avg\": 0.07}, {\"year\": 1964, \"avg\": -0.2}, {\"year\": 1965, \"avg\": -0.1}, {\"year\": 1966, \"avg\": -0.05}, {\"year\": 1967, \"avg\": -0.02}, {\"year\": 1968, \"avg\": -0.07}, {\"year\": 1969, \"avg\": 0.07}, {\"year\": 1970, \"avg\": 0.03}, {\"year\": 1971, \"avg\": -0.09}, {\"year\": 1972, \"avg\": 0.01}, {\"year\": 1973, \"avg\": 0.16}, {\"year\": 1974, \"avg\": -0.08}, {\"year\": 1975, \"avg\": -0.02}, {\"year\": 1976, \"avg\": -0.11}, {\"year\": 1977, \"avg\": 0.17}, {\"year\": 1978, \"avg\": 0.06}, {\"year\": 1979, \"avg\": 0.16}, {\"year\": 1980, \"avg\": 0.27}, {\"year\": 1981, \"avg\": 0.33}, {\"year\": 1982, \"avg\": 0.13}, {\"year\": 1983, \"avg\": 0.31}, {\"year\": 1984, \"avg\": 0.16}, {\"year\": 1985, \"avg\": 0.12}, {\"year\": 1986, \"avg\": 0.18}, {\"year\": 1987, \"avg\": 0.33}, {\"year\": 1988, \"avg\": 0.41}, {\"year\": 1989, \"avg\": 0.29}, {\"year\": 1990, \"avg\": 0.44}, {\"year\": 1991, \"avg\": 0.41}, {\"year\": 1992, \"avg\": 0.22}, {\"year\": 1993, \"avg\": 0.24}, {\"year\": 1994, \"avg\": 0.31}, {\"year\": 1995, \"avg\": 0.44}, {\"year\": 1996, \"avg\": 0.33}, {\"year\": 1997, \"avg\": 0.47}, {\"year\": 1998, \"avg\": 0.62}, {\"year\": 1999, \"avg\": 0.4}, {\"year\": 2000, \"avg\": 0.4}, {\"year\": 2001, \"avg\": 0.54}, {\"year\": 2002, \"avg\": 0.62}, {\"year\": 2003, \"avg\": 0.61}, {\"year\": 2004, \"avg\": 0.53}, {\"year\": 2005, \"avg\": 0.67}, {\"year\": 2006, \"avg\": 0.62}, {\"year\": 2007, \"avg\": 0.64}, {\"year\": 2008, \"avg\": 0.52}, {\"year\": 2009, \"avg\": 0.63}, {\"year\": 2010, \"avg\": 0.7}, {\"year\": 2011, \"avg\": 0.58}, {\"year\": 2012, \"avg\": 0.61}, {\"year\": 2013, \"avg\": 0.64}, {\"year\": 2014, \"avg\": 0.73}, {\"year\": 2015, \"avg\": 0.86}, {\"year\": 2016, \"avg\": 0.99}, {\"year\": 2017, \"avg\": 0.9}], \"data-7a308401a6c4dd4e370c4729ef7bbfe2\": [{\"y\": -0.22849999999999998}], \"data-a179efb71714682473509bb3f19957ec\": [{\"x\": 2009.9, \"y\": -0.13}], \"data-350d6d05ef4115a85760d3a12acfc6a6\": [{\"x\": 2009.4, \"y\": -0.19}], \"data-cf74d56b179e80371926665c4df6308a\": [{\"x\": 2015.3, \"y\": -0.27}]}}, {\"mode\": \"vega-lite\"});\n</script>",
      "text/plain": "alt.LayerChart(...)"
     },
     "execution_count": 14,
     "metadata": {},
     "output_type": "execute_result"
    }
   ],
   "source": [
    "result = alt.layer(main, years_lables1,  years_lables2,  years_lable_bold, line, text1, text2, text3\n",
    ").configure_axisX(\n",
    "    ticks = False,\n",
    "    domain = False,\n",
    "    labelFont = font,\n",
    "    labelFontSize = 13,\n",
    "    labelColor='#999999',\n",
    "    labelPadding = 10\n",
    ").configure_axisY(\n",
    "    domain = False,\n",
    "    tickColor = '#DCDCDC',\n",
    "    labelFont = font,\n",
    "    labelFontSize = 13,\n",
    "    labelColor='#999999',\n",
    "    labelPadding = 4\n",
    ").configure_title(\n",
    "    anchor='start',\n",
    "    dx = 70,\n",
    "    dy=  60,\n",
    "    fontSize = 18,\n",
    "    fontWeight = 'bold'\n",
    ").properties(\n",
    "    width = 957,\n",
    "    height = 604,\n",
    "    background = 'white',\n",
    "    padding = 25)\n",
    "\n",
    "result"
   ],
   "metadata": {
    "collapsed": false,
    "pycharm": {
     "name": "#%%\n"
    }
   }
  },
  {
   "cell_type": "code",
   "execution_count": 15,
   "outputs": [],
   "source": [
    "result.save(\"nyt_replica_chart.html\")"
   ],
   "metadata": {
    "collapsed": false,
    "pycharm": {
     "name": "#%%\n"
    }
   }
  }
 ],
 "metadata": {
  "kernelspec": {
   "display_name": "Python 3 (ipykernel)",
   "language": "python",
   "name": "python3"
  },
  "language_info": {
   "codemirror_mode": {
    "name": "ipython",
    "version": 3
   },
   "file_extension": ".py",
   "mimetype": "text/x-python",
   "name": "python",
   "nbconvert_exporter": "python",
   "pygments_lexer": "ipython3",
   "version": "3.9.0"
  }
 },
 "nbformat": 4,
 "nbformat_minor": 1
}